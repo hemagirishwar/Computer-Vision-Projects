{
 "cells": [
  {
   "cell_type": "code",
   "execution_count": null,
   "id": "18e59dec",
   "metadata": {},
   "outputs": [],
   "source": [
    "import cv2\n",
    "import mediapipe as mp\n",
    "import time"
   ]
  },
  {
   "cell_type": "code",
   "execution_count": null,
   "id": "92167526",
   "metadata": {},
   "outputs": [],
   "source": [
    "cap=cv2.VideoCapture(0)\n",
    "mpHands=mp.solutions.hands\n",
    "hands=mpHands.Hands()\n",
    "mpDraw=mp.solutions.drawing_utils\n",
    "ptime=0\n",
    "ctime=0\n",
    "while True:\n",
    "    r,img=cap.read()\n",
    "    img=cv2.flip(img,1)\n",
    "    imgRGB=cv2.cvtColor(img,cv2.COLOR_BGR2RGB)\n",
    "    result=hands.process(imgRGB)\n",
    "    if result.multi_hand_landmarks:\n",
    "        for handloc in result.multi_hand_landmarks:\n",
    "            for ID,lm in enumerate(handloc.landmark):\n",
    "                h,w,c=img.shape\n",
    "                cx,cy=int(lm.x*w),int(lm.y*h)\n",
    "                print(ID,cx,cy)\n",
    "                if ID==4:\n",
    "                    cv2.circle(img,(cx,cy),25,(0,255,255),-1)\n",
    "        mpDraw.draw_landmarks(img,handloc,mpHands.HAND_CONNECTIONS)\n",
    "    ctime=time.time()\n",
    "    fps=1/(ctime-ptime)\n",
    "    ptime=ctime\n",
    "    cv2.putText(img,f'FPS:{int(fps)}',(10,70),cv2.FONT_HERSHEY_PLAIN,2,(255,0,255),2)\n",
    "    cv2.imshow(\"Video\",img)\n",
    "    if cv2.waitKey(1)==ord(\"p\"):\n",
    "        break\n",
    "cap.release()\n",
    "cv2.destroyAllWindows()"
   ]
  }
 ],
 "metadata": {
  "kernelspec": {
   "display_name": "Python 3 (ipykernel)",
   "language": "python",
   "name": "python3"
  },
  "language_info": {
   "codemirror_mode": {
    "name": "ipython",
    "version": 3
   },
   "file_extension": ".py",
   "mimetype": "text/x-python",
   "name": "python",
   "nbconvert_exporter": "python",
   "pygments_lexer": "ipython3",
   "version": "3.10.9"
  },
  "varInspector": {
   "cols": {
    "lenName": 16,
    "lenType": 16,
    "lenVar": 40
   },
   "kernels_config": {
    "python": {
     "delete_cmd_postfix": "",
     "delete_cmd_prefix": "del ",
     "library": "var_list.py",
     "varRefreshCmd": "print(var_dic_list())"
    },
    "r": {
     "delete_cmd_postfix": ") ",
     "delete_cmd_prefix": "rm(",
     "library": "var_list.r",
     "varRefreshCmd": "cat(var_dic_list()) "
    }
   },
   "types_to_exclude": [
    "module",
    "function",
    "builtin_function_or_method",
    "instance",
    "_Feature"
   ],
   "window_display": false
  }
 },
 "nbformat": 4,
 "nbformat_minor": 5
}
